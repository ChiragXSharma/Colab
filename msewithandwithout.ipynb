{
  "nbformat": 4,
  "nbformat_minor": 0,
  "metadata": {
    "colab": {
      "provenance": [],
      "authorship_tag": "ABX9TyPA9WP40xWLefr2o1zyWTy1",
      "include_colab_link": true
    },
    "kernelspec": {
      "name": "python3",
      "display_name": "Python 3"
    },
    "language_info": {
      "name": "python"
    }
  },
  "cells": [
    {
      "cell_type": "markdown",
      "metadata": {
        "id": "view-in-github",
        "colab_type": "text"
      },
      "source": [
        "<a href=\"https://colab.research.google.com/github/ChiragXSharma/Colab/blob/main/msewithandwithout.ipynb\" target=\"_parent\"><img src=\"https://colab.research.google.com/assets/colab-badge.svg\" alt=\"Open In Colab\"/></a>"
      ]
    },
    {
      "cell_type": "code",
      "source": [
        "def mse_plain_python(y_true, y_pred):\n",
        "    n = len(y_true)\n",
        "    return sum((y_pred[i] - y_true[i]) ** 2 for i in range(n)) / n\n",
        "\n",
        "# Taking user input\n",
        "y_actual = list(map(float, input(\"Enter actual values (comma-separated): \").split(',')))\n",
        "y_predicted = list(map(float, input(\"Enter predicted values (comma-separated): \").split(',')))\n",
        "\n",
        "# Ensure both lists have the same length\n",
        "if len(y_actual) != len(y_predicted):\n",
        "    print(\"Error: Both lists must have the same number of elements.\")\n",
        "else:\n",
        "    print(\"MSE without NumPy:\", mse_plain_python(y_actual, y_predicted))\n"
      ],
      "metadata": {
        "colab": {
          "base_uri": "https://localhost:8080/"
        },
        "id": "aUF4wZJj_U_s",
        "outputId": "8fe08d5a-622f-457b-8e03-262441d559f8"
      },
      "execution_count": null,
      "outputs": [
        {
          "output_type": "stream",
          "name": "stdout",
          "text": [
            "Enter actual values (comma-separated): 1,2,3,4,5\n",
            "Enter predicted values (comma-separated): 6,7,8,9,10\n",
            "MSE without NumPy: 25.0\n"
          ]
        }
      ]
    },
    {
      "cell_type": "code",
      "source": [
        "import numpy as np\n",
        "\n",
        "def mse_numpy(y_true, y_pred):\n",
        "    return np.mean((np.array(y_pred) - np.array(y_true)) ** 2)\n",
        "\n",
        "y_actual = list(map(float, input(\"Enter actual values (comma-separated): \").split(',')))\n",
        "y_predicted = list(map(float, input(\"Enter predicted values (comma-separated): \").split(',')))\n",
        "\n",
        "if len(y_actual) != len(y_predicted):\n",
        "    print(\"Error: Both lists must have the same length.\")\n",
        "else:\n",
        "    print(\"MSE with NumPy:\", mse_numpy(y_actual, y_predicted))\n"
      ],
      "metadata": {
        "id": "lvHuWkT4ATDz"
      },
      "execution_count": null,
      "outputs": []
    }
  ]
}