{
  "nbformat": 4,
  "nbformat_minor": 0,
  "metadata": {
    "colab": {
      "provenance": [],
      "authorship_tag": "ABX9TyPSKofa1ldS+ZdrjBxdGBKu",
      "include_colab_link": true
    },
    "kernelspec": {
      "name": "python3",
      "display_name": "Python 3"
    },
    "language_info": {
      "name": "python"
    }
  },
  "cells": [
    {
      "cell_type": "markdown",
      "metadata": {
        "id": "view-in-github",
        "colab_type": "text"
      },
      "source": [
        "<a href=\"https://colab.research.google.com/github/ChiragXSharma/Colab/blob/main/gradient.ipynb\" target=\"_parent\"><img src=\"https://colab.research.google.com/assets/colab-badge.svg\" alt=\"Open In Colab\"/></a>"
      ]
    },
    {
      "cell_type": "code",
      "execution_count": null,
      "metadata": {
        "id": "JXpg4qQgEvmk"
      },
      "outputs": [],
      "source": [
        "import random\n",
        "\n",
        "def gradient_descent(x, y, lr=0.1, epochs=1000):\n",
        "    theta0, theta1 = random.random(), random.random()\n",
        "    m = len(x)\n",
        "\n",
        "    for _ in range(epochs):\n",
        "        y_pred = [theta0 + theta1 * x_i for x_i in x]\n",
        "        d_theta0 = (2/m) * sum(y_pred[i] - y[i] for i in range(m))\n",
        "        d_theta1 = (2/m) * sum((y_pred[i] - y[i]) * x[i] for i in range(m))\n",
        "        theta0 -= lr * d_theta0\n",
        "        theta1 -= lr * d_theta1\n",
        "\n",
        "    return theta0, theta1\n",
        "\n",
        "x = list(map(float, input(\"Enter x values (comma-separated): \").split(',')))\n",
        "y = list(map(float, input(\"Enter y values (comma-separated): \").split(',')))\n",
        "\n",
        "if len(x) != len(y):\n",
        "    print(\"Error: x and y must have the same number of values.\")\n",
        "else:\n",
        "    theta0, theta1 = gradient_descent(x, y)\n",
        "    print(f\"Final Parameters: theta0 = {theta0:.4f}, theta1 = {theta1:.4f}\")\n"
      ]
    }
  ]
}